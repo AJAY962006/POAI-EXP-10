{
  "nbformat": 4,
  "nbformat_minor": 0,
  "metadata": {
    "colab": {
      "provenance": [],
      "authorship_tag": "ABX9TyNOFhjsrbl7/5TI+TTV6IXq",
      "include_colab_link": true
    },
    "kernelspec": {
      "name": "python3",
      "display_name": "Python 3"
    },
    "language_info": {
      "name": "python"
    }
  },
  "cells": [
    {
      "cell_type": "markdown",
      "metadata": {
        "id": "view-in-github",
        "colab_type": "text"
      },
      "source": [
        "<a href=\"https://colab.research.google.com/github/AJAY962006/POAI-EXP-10/blob/main/Untitled9.ipynb\" target=\"_parent\"><img src=\"https://colab.research.google.com/assets/colab-badge.svg\" alt=\"Open In Colab\"/></a>"
      ]
    },
    {
      "cell_type": "code",
      "execution_count": 1,
      "metadata": {
        "colab": {
          "base_uri": "https://localhost:8080/"
        },
        "id": "dGkpmkUVfU7_",
        "outputId": "661299a3-803f-433b-c4d5-c86204c3beea"
      },
      "outputs": [
        {
          "output_type": "stream",
          "name": "stdout",
          "text": [
            "Enter temperature: 99\n",
            "Action: Turn AC ON\n"
          ]
        }
      ],
      "source": [
        "def fuzzy_temperature(temp):\n",
        "    if temp <= 20:\n",
        "        return 'Cold'\n",
        "    elif 20 < temp <= 30:\n",
        "        return 'Warm'\n",
        "    else:\n",
        "        return 'Hot'\n",
        "\n",
        "def fuzzy_control(temp):\n",
        "    condition = fuzzy_temperature(temp)\n",
        "    if condition == 'Cold':\n",
        "        return \"Turn heater ON\"\n",
        "    elif condition == 'Warm':\n",
        "        return \"Do nothing\"\n",
        "    else:\n",
        "        return \"Turn AC ON\"\n",
        "\n",
        "temp = float(input(\"Enter temperature: \"))\n",
        "print(\"Action:\", fuzzy_control(temp))\n"
      ]
    }
  ]
}